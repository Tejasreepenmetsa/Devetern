{
  "nbformat": 4,
  "nbformat_minor": 0,
  "metadata": {
    "colab": {
      "provenance": [],
      "authorship_tag": "ABX9TyOulClUFrft3vBpN7ZrR+l/",
      "include_colab_link": true
    },
    "kernelspec": {
      "name": "python3",
      "display_name": "Python 3"
    },
    "language_info": {
      "name": "python"
    }
  },
  "cells": [
    {
      "cell_type": "markdown",
      "metadata": {
        "id": "view-in-github",
        "colab_type": "text"
      },
      "source": [
        "<a href=\"https://colab.research.google.com/github/Tejasreepenmetsa/Devetern/blob/main/spd.ipynb\" target=\"_parent\"><img src=\"https://colab.research.google.com/assets/colab-badge.svg\" alt=\"Open In Colab\"/></a>"
      ]
    },
    {
      "cell_type": "code",
      "execution_count": 2,
      "metadata": {
        "id": "BSlFkduma9k4"
      },
      "outputs": [],
      "source": [
        "import pandas as pd\n",
        "from sklearn.model_selection import train_test_split\n",
        "from sklearn.feature_extraction.text import TfidfVectorizer\n",
        "from sklearn.preprocessing import LabelEncoder\n",
        "from sklearn.metrics import accuracy_score, confusion_matrix, classification_report\n",
        "import tensorflow as tf\n",
        "import warnings\n",
        ""
      ]
    },
    {
      "cell_type": "code",
      "source": [
        "data = pd.read_csv(r\"/content/spam_ham_dataset.csv\", encoding='latin-1')"
      ],
      "metadata": {
        "id": "w6ld3uK5bIpP"
      },
      "execution_count": 3,
      "outputs": []
    },
    {
      "cell_type": "code",
      "source": [
        "data.fillna(method='ffill', inplace=True)"
      ],
      "metadata": {
        "id": "ilAwCt0zeXQO"
      },
      "execution_count": 4,
      "outputs": []
    },
    {
      "cell_type": "code",
      "source": [
        "print(data.columns)"
      ],
      "metadata": {
        "colab": {
          "base_uri": "https://localhost:8080/"
        },
        "id": "O825Kndaeg2e",
        "outputId": "5c4191af-332a-4576-fd91-f971acce7ab2"
      },
      "execution_count": 5,
      "outputs": [
        {
          "output_type": "stream",
          "name": "stdout",
          "text": [
            "Index(['Unnamed: 0', 'label', 'text', 'label_num'], dtype='object')\n"
          ]
        }
      ]
    },
    {
      "cell_type": "code",
      "source": [
        "data = data[['label', 'text']]"
      ],
      "metadata": {
        "id": "VjOHX1eHeihP"
      },
      "execution_count": 6,
      "outputs": []
    },
    {
      "cell_type": "code",
      "source": [
        "label_encoder = LabelEncoder()"
      ],
      "metadata": {
        "id": "L12f1Wkfennf"
      },
      "execution_count": 7,
      "outputs": []
    },
    {
      "cell_type": "code",
      "source": [
        "data['label'] = label_encoder.fit_transform(data['label'])"
      ],
      "metadata": {
        "id": "jyjZrTlMer96"
      },
      "execution_count": 8,
      "outputs": []
    },
    {
      "cell_type": "code",
      "source": [
        "label_encoder = LabelEncoder()"
      ],
      "metadata": {
        "id": "NgMDWgeDex-l"
      },
      "execution_count": 9,
      "outputs": []
    },
    {
      "cell_type": "code",
      "source": [
        "data['label'] = label_encoder.fit_transform(data['label'])"
      ],
      "metadata": {
        "id": "EesZVh1Be3uU"
      },
      "execution_count": 10,
      "outputs": []
    },
    {
      "cell_type": "code",
      "source": [
        "\n",
        "X_train, X_test, y_train, y_test = train_test_split(data['text'], data['label'], test_size=0.2, random_state=42)\n"
      ],
      "metadata": {
        "id": "-EvGRL4je8iq"
      },
      "execution_count": 11,
      "outputs": []
    },
    {
      "cell_type": "code",
      "source": [
        "X_train = X_train.astype(str)"
      ],
      "metadata": {
        "id": "tCu8Jh7Ee-1B"
      },
      "execution_count": 12,
      "outputs": []
    },
    {
      "cell_type": "code",
      "source": [
        "X_test = X_test.astype(str)"
      ],
      "metadata": {
        "id": "mr5VpWW6fE1n"
      },
      "execution_count": 13,
      "outputs": []
    },
    {
      "cell_type": "code",
      "source": [
        "X_test = X_test.astype(str)"
      ],
      "metadata": {
        "id": "ldzC62B8fJQ_"
      },
      "execution_count": 14,
      "outputs": []
    },
    {
      "cell_type": "code",
      "source": [
        "vectorizer = TfidfVectorizer()"
      ],
      "metadata": {
        "id": "H9sM9UFsfMqb"
      },
      "execution_count": 17,
      "outputs": []
    },
    {
      "cell_type": "code",
      "source": [
        "X_train = vectorizer.fit_transform(X_train)"
      ],
      "metadata": {
        "id": "pcquDJxIfi06"
      },
      "execution_count": 18,
      "outputs": []
    },
    {
      "cell_type": "code",
      "source": [
        "X_test = vectorizer.transform(X_test)"
      ],
      "metadata": {
        "id": "ndKE4vV3fnRj"
      },
      "execution_count": 19,
      "outputs": []
    },
    {
      "cell_type": "code",
      "source": [
        "model = tf.keras.Sequential([\n",
        "    tf.keras.layers.Dense(128, activation='relu', input_shape=(X_train.shape[1],)),\n",
        "    tf.keras.layers.Dropout(0.5),\n",
        "    tf.keras.layers.Dense(64, activation='relu'),\n",
        "    tf.keras.layers.Dropout(0.5),\n",
        "    tf.keras.layers.Dense(1, activation='sigmoid')\n",
        "])"
      ],
      "metadata": {
        "id": "umQPctYvfqew"
      },
      "execution_count": 20,
      "outputs": []
    },
    {
      "cell_type": "code",
      "source": [
        "model.compile(optimizer='adam', loss='binary_crossentropy', metrics=['accuracy'])"
      ],
      "metadata": {
        "id": "8D6oLPzpfwP_"
      },
      "execution_count": 21,
      "outputs": []
    },
    {
      "cell_type": "code",
      "source": [
        "\n",
        "history = model.fit(X_train.toarray(), y_train, epochs=15, batch_size=64, validation_data=(X_test.toarray(), y_test))\n",
        ""
      ],
      "metadata": {
        "colab": {
          "base_uri": "https://localhost:8080/"
        },
        "id": "sIgIUAdCf182",
        "outputId": "79af57b8-e1e6-41d3-839f-373cdda8a2b8"
      },
      "execution_count": 22,
      "outputs": [
        {
          "output_type": "stream",
          "name": "stdout",
          "text": [
            "Epoch 1/15\n",
            "65/65 [==============================] - 15s 201ms/step - loss: 0.4228 - accuracy: 0.7829 - val_loss: 0.1806 - val_accuracy: 0.9700\n",
            "Epoch 2/15\n",
            "65/65 [==============================] - 7s 111ms/step - loss: 0.0834 - accuracy: 0.9911 - val_loss: 0.0378 - val_accuracy: 0.9874\n",
            "Epoch 3/15\n",
            "65/65 [==============================] - 7s 108ms/step - loss: 0.0154 - accuracy: 0.9976 - val_loss: 0.0266 - val_accuracy: 0.9923\n",
            "Epoch 4/15\n",
            "65/65 [==============================] - 7s 110ms/step - loss: 0.0051 - accuracy: 0.9998 - val_loss: 0.0258 - val_accuracy: 0.9923\n",
            "Epoch 5/15\n",
            "65/65 [==============================] - 7s 107ms/step - loss: 0.0030 - accuracy: 0.9995 - val_loss: 0.0263 - val_accuracy: 0.9903\n",
            "Epoch 6/15\n",
            "65/65 [==============================] - 8s 116ms/step - loss: 0.0012 - accuracy: 1.0000 - val_loss: 0.0263 - val_accuracy: 0.9913\n",
            "Epoch 7/15\n",
            "65/65 [==============================] - 8s 118ms/step - loss: 8.8304e-04 - accuracy: 1.0000 - val_loss: 0.0252 - val_accuracy: 0.9923\n",
            "Epoch 8/15\n",
            "65/65 [==============================] - 6s 98ms/step - loss: 7.8095e-04 - accuracy: 1.0000 - val_loss: 0.0262 - val_accuracy: 0.9903\n",
            "Epoch 9/15\n",
            "65/65 [==============================] - 8s 122ms/step - loss: 5.5275e-04 - accuracy: 1.0000 - val_loss: 0.0261 - val_accuracy: 0.9923\n",
            "Epoch 10/15\n",
            "65/65 [==============================] - 6s 93ms/step - loss: 3.2813e-04 - accuracy: 1.0000 - val_loss: 0.0262 - val_accuracy: 0.9903\n",
            "Epoch 11/15\n",
            "65/65 [==============================] - 8s 127ms/step - loss: 3.5595e-04 - accuracy: 1.0000 - val_loss: 0.0265 - val_accuracy: 0.9894\n",
            "Epoch 12/15\n",
            "65/65 [==============================] - 7s 100ms/step - loss: 2.9144e-04 - accuracy: 1.0000 - val_loss: 0.0263 - val_accuracy: 0.9903\n",
            "Epoch 13/15\n",
            "65/65 [==============================] - 8s 127ms/step - loss: 2.2670e-04 - accuracy: 1.0000 - val_loss: 0.0263 - val_accuracy: 0.9923\n",
            "Epoch 14/15\n",
            "65/65 [==============================] - 7s 103ms/step - loss: 2.1354e-04 - accuracy: 1.0000 - val_loss: 0.0268 - val_accuracy: 0.9903\n",
            "Epoch 15/15\n",
            "65/65 [==============================] - 8s 119ms/step - loss: 1.6468e-04 - accuracy: 1.0000 - val_loss: 0.0266 - val_accuracy: 0.9923\n"
          ]
        }
      ]
    },
    {
      "cell_type": "code",
      "source": [
        "with warnings.catch_warnings():\n",
        "    warnings.filterwarnings(\"ignore\", category=FutureWarning)"
      ],
      "metadata": {
        "id": "aSQgvW9Sgwq9"
      },
      "execution_count": 23,
      "outputs": []
    },
    {
      "cell_type": "code",
      "source": [
        "y_pred = model.predict(X_test.toarray())\n",
        "import numpy as np\n",
        "y_pred = np.argmax(y_pred, axis=1)"
      ],
      "metadata": {
        "colab": {
          "base_uri": "https://localhost:8080/"
        },
        "id": "NuNl6HpVg0Dl",
        "outputId": "6f7be91b-df72-4d3b-8be5-2848d872924a"
      },
      "execution_count": 24,
      "outputs": [
        {
          "output_type": "stream",
          "name": "stdout",
          "text": [
            "33/33 [==============================] - 1s 17ms/step\n"
          ]
        }
      ]
    },
    {
      "cell_type": "code",
      "source": [
        "accuracy = accuracy_score(y_test, y_pred)"
      ],
      "metadata": {
        "id": "aN6kVJhKg3fb"
      },
      "execution_count": 25,
      "outputs": []
    },
    {
      "cell_type": "code",
      "source": [
        "conf_matrix = confusion_matrix(y_test, y_pred)"
      ],
      "metadata": {
        "id": "EQAjCL85g5Up"
      },
      "execution_count": 26,
      "outputs": []
    },
    {
      "cell_type": "code",
      "source": [
        "class_report = classification_report(y_test, y_pred, zero_division=1)"
      ],
      "metadata": {
        "id": "UxrEDfR4g-EL"
      },
      "execution_count": 27,
      "outputs": []
    },
    {
      "cell_type": "code",
      "source": [
        "print(f'Accuracy: {accuracy*100:.2f}%')"
      ],
      "metadata": {
        "colab": {
          "base_uri": "https://localhost:8080/"
        },
        "id": "-MKyKIwihE1h",
        "outputId": "819c55b7-f9fa-4bf9-a2f1-5afa9e9663ff"
      },
      "execution_count": 28,
      "outputs": [
        {
          "output_type": "stream",
          "name": "stdout",
          "text": [
            "Accuracy: 71.69%\n"
          ]
        }
      ]
    },
    {
      "cell_type": "code",
      "source": [
        "print(f'Confusion Matrix:\\n{conf_matrix}')"
      ],
      "metadata": {
        "colab": {
          "base_uri": "https://localhost:8080/"
        },
        "id": "MohJbI10hGGO",
        "outputId": "df848a69-1d69-4460-fdc0-1dbd351871a0"
      },
      "execution_count": 29,
      "outputs": [
        {
          "output_type": "stream",
          "name": "stdout",
          "text": [
            "Confusion Matrix:\n",
            "[[742   0]\n",
            " [293   0]]\n"
          ]
        }
      ]
    },
    {
      "cell_type": "code",
      "source": [
        "print(f'Classification Report:\\n{class_report}')"
      ],
      "metadata": {
        "colab": {
          "base_uri": "https://localhost:8080/"
        },
        "id": "leI55SbKhO0Y",
        "outputId": "8c9f6294-ab9c-4d64-c6f7-bfb5ed4a5e0f"
      },
      "execution_count": 30,
      "outputs": [
        {
          "output_type": "stream",
          "name": "stdout",
          "text": [
            "Classification Report:\n",
            "              precision    recall  f1-score   support\n",
            "\n",
            "           0       0.72      1.00      0.84       742\n",
            "           1       1.00      0.00      0.00       293\n",
            "\n",
            "    accuracy                           0.72      1035\n",
            "   macro avg       0.86      0.50      0.42      1035\n",
            "weighted avg       0.80      0.72      0.60      1035\n",
            "\n"
          ]
        }
      ]
    }
  ]
}